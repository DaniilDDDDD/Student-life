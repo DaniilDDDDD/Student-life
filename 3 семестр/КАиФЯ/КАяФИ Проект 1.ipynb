{
 "cells": [
  {
   "cell_type": "code",
   "execution_count": 1,
   "metadata": {},
   "outputs": [],
   "source": [
    "def recognize(string=None):\n",
    "    if string is None: # пустая строка нам не подходит\n",
    "        return False\n",
    "    if string[0:2] != '**' or string[len(string) - 1] != '*': # проверяем начало и конец строки\n",
    "        return False\n",
    "    for char in string: # проверяем на наличие в строке только символов алфавита\n",
    "        if char not in ('*', 'a', 'b',):\n",
    "            return False\n",
    "    if string != '***': # если строка не равна *** (что сразу подходит условию) происходит проверка\n",
    "        previous = string[2] # запоминаем предыдущий символ (начиная с символа с индексои 2)\n",
    "        for char in string[3:len(string) - 1]: # проходим по подстроке, которая не содержит начальных ** и конечной *\n",
    "            if previous == 'a' and char != 'b': # если после a идёт не b, то такафя строка нам не подходит\n",
    "                return False\n",
    "            previous = char # обновляем предыдущий символ\n",
    "    return True\n",
    "\n",
    "def search(string):\n",
    "    result = {}\n",
    "    for i in range(0, len(string)): # проходим по символам строки\n",
    "        if len(string[i:len(string)]) > 2 and string[i:i + 2] == '**': # если длина строки > 2 и первые 2 символа=**\n",
    "            # индекс первого (после **) вхождения * в подстроку, начинающуюся с i-того символа входной строки\n",
    "            j = string[i + 2:len(string)].find('*') + i + 2\n",
    "            if recognize(string[i:j + 1]): # применяем распознающую функцию\n",
    "                result[i] = string[i:j + 1] # если строка подходит, добавляем её в словарь\n",
    "        # если в конце подстроки идут **, то это может быть началом новой подходящей подстроки=> двигаем соотвестввующе маркер i\n",
    "            if (string[j - 1] == '*'):\n",
    "                i=j - 1\n",
    "            else:\n",
    "                i = j\n",
    "    return result # возвращаем распознаныне строки"
   ]
  },
  {
   "cell_type": "code",
   "execution_count": 2,
   "metadata": {},
   "outputs": [
    {
     "name": "stdout",
     "output_type": "stream",
     "text": [
      "{0: '***'}\n"
     ]
    }
   ],
   "source": [
    "print(search('***'))"
   ]
  },
  {
   "cell_type": "code",
   "execution_count": 3,
   "metadata": {},
   "outputs": [
    {
     "name": "stdout",
     "output_type": "stream",
     "text": [
      "{0: '***', 1: '***', 2: '***', 3: '***'}\n"
     ]
    }
   ],
   "source": [
    "print(search('******'))"
   ]
  },
  {
   "cell_type": "code",
   "execution_count": 4,
   "metadata": {},
   "outputs": [
    {
     "name": "stdout",
     "output_type": "stream",
     "text": [
      "{0: '**ab*'}\n"
     ]
    }
   ],
   "source": [
    "print(search('**ab*'))"
   ]
  },
  {
   "cell_type": "code",
   "execution_count": 5,
   "metadata": {},
   "outputs": [
    {
     "name": "stdout",
     "output_type": "stream",
     "text": [
      "{}\n"
     ]
    }
   ],
   "source": [
    "print(search('*ab*'))"
   ]
  },
  {
   "cell_type": "code",
   "execution_count": 6,
   "metadata": {},
   "outputs": [
    {
     "name": "stdout",
     "output_type": "stream",
     "text": [
      "{3: '**ab*'}\n"
     ]
    }
   ],
   "source": [
    "print(search('*ab**ab*'))"
   ]
  },
  {
   "cell_type": "code",
   "execution_count": 7,
   "metadata": {},
   "outputs": [
    {
     "name": "stdout",
     "output_type": "stream",
     "text": [
      "{}\n"
     ]
    }
   ],
   "source": [
    "print(search('**aaaabbbb*'))"
   ]
  },
  {
   "cell_type": "code",
   "execution_count": 8,
   "metadata": {},
   "outputs": [
    {
     "name": "stdout",
     "output_type": "stream",
     "text": [
      "{}\n"
     ]
    }
   ],
   "source": [
    "print(search('**hjhj*'))"
   ]
  },
  {
   "cell_type": "code",
   "execution_count": 9,
   "metadata": {},
   "outputs": [
    {
     "name": "stdout",
     "output_type": "stream",
     "text": [
      "{}\n"
     ]
    }
   ],
   "source": [
    "print(search('**ahab*'))"
   ]
  },
  {
   "cell_type": "code",
   "execution_count": 10,
   "metadata": {},
   "outputs": [
    {
     "name": "stdout",
     "output_type": "stream",
     "text": [
      "{}\n"
     ]
    }
   ],
   "source": [
    "print(search('**abghjghj*'))"
   ]
  },
  {
   "cell_type": "code",
   "execution_count": 11,
   "metadata": {
    "scrolled": true
   },
   "outputs": [
    {
     "name": "stdout",
     "output_type": "stream",
     "text": [
      "{0: '***', 1: '***', 2: '***', 3: '**bbbbabababbbbb*', 19: '***', 20: '**ababababbbb*', 33: '***', 34: '***', 35: '***', 36: '**bbbbbbbabababbbbabbbbabbb*', 63: '***', 64: '***'}\n"
     ]
    }
   ],
   "source": [
    "print(search('*****bbbbabababbbbb***ababababbbb*****bbbbbbbabababbbbabbbbabbb****'))"
   ]
  },
  {
   "cell_type": "code",
   "execution_count": 2,
   "metadata": {},
   "outputs": [],
   "source": [
    "class Position():\n",
    "    # таблица состояний (первая строка - алфавит)\n",
    "    states = [('a','b','*',), \n",
    "              {'a':7, 'b':7, '*':2},\n",
    "              {'a':7, 'b':7, '*':3},\n",
    "              {'a':5, 'b':6, '*':4},\n",
    "              {'a':5, 'b':6, '*':4},\n",
    "              {'a':7, 'b':6, '*':7},\n",
    "              {'a':5, 'b':6, '*':4},\n",
    "              {'a':7, 'b':7, '*':7},\n",
    "             ]\n",
    "    recognized_strings = {} # строки, допустимые автоматом\n",
    "    state = 1 # начальное состояние\n",
    "    \n",
    "    def __init__(self, final, states=None):\n",
    "        self.final_state = final\n",
    "        if states is not None:\n",
    "            self.states = self.states\n",
    "        \n",
    "    # метод, реализующий смену состояния автомата при считывании символа\n",
    "    def read(self, char=None):\n",
    "        if char is None: # по пустому символу никуда не переходим\n",
    "            return\n",
    "        if char not in self.states[0]: # по символу не из алфавита никуда не переходим\n",
    "            return\n",
    "        sym = self.states[self.state][char] # переход в нужное состаяние реализован чеерез обращение к списку словарей\n",
    "        if sym is None: # если симво None то остаёмся в прежнем состоянии\n",
    "            return\n",
    "        self.state = sym\n",
    "    \n",
    "    # метод, распознающий строки\n",
    "    def recognize(self, string=None):\n",
    "        if string is None: # пустая строка нам не подходит\n",
    "            return False\n",
    "        for char in string: # проходим по символам строки, применяя на нах функцию read(char)\n",
    "            self.read(char)\n",
    "        if self.state == self.final_state: # если текущее состояние равно финальному, то строка подходит\n",
    "            return True\n",
    "        return False\n",
    "    \n",
    "    # метод поиска допустимых подстрок во входной строке\n",
    "    def search(self, string):\n",
    "        self.recognized_strings={} # словарь найденных строк (ключ-номер первого символа подстроки)\n",
    "        for i in range(0, len(string)): # проходим по символам строки\n",
    "            if len(string[i:len(string)]) > 2 and string[i:i + 2] == '**': # если длина строки > 2 и первые 2 символа=**\n",
    "                # индекс первого (после **) вхождения * в подстроку, начинающуюся с i-того символа входной строки\n",
    "                j = string[i + 2:len(string)].find('*') + i + 2 \n",
    "                if self.recognize(string[i:j + 1]): # применяем распознающую функцию\n",
    "                    self.recognized_strings[i] = string[i:j + 1] # если строка подходит, добавляем её в словарь\n",
    "    # если в конце подстроки идут **, то это может быть началом новой подходящей подстроки=> двигаем соотвестввующе маркер i\n",
    "                if (string[j - 1] == '*'):\n",
    "                    i=j - 1\n",
    "                else:\n",
    "                    i = j\n",
    "        return self.recognized_strings # возвращаем распознаныне строки\n",
    "    \n",
    "automat = Position(final=4)"
   ]
  },
  {
   "cell_type": "code",
   "execution_count": 14,
   "metadata": {},
   "outputs": [
    {
     "name": "stdout",
     "output_type": "stream",
     "text": [
      "{0: '***'}\n"
     ]
    }
   ],
   "source": [
    "print(automat.search('***'))"
   ]
  },
  {
   "cell_type": "code",
   "execution_count": 15,
   "metadata": {},
   "outputs": [
    {
     "name": "stdout",
     "output_type": "stream",
     "text": [
      "{0: '***', 1: '***', 2: '***', 3: '***'}\n"
     ]
    }
   ],
   "source": [
    "print(automat.search('******'))"
   ]
  },
  {
   "cell_type": "code",
   "execution_count": 16,
   "metadata": {},
   "outputs": [
    {
     "name": "stdout",
     "output_type": "stream",
     "text": [
      "{0: '**ab*'}\n"
     ]
    }
   ],
   "source": [
    "print(automat.search('**ab*'))"
   ]
  },
  {
   "cell_type": "code",
   "execution_count": 17,
   "metadata": {},
   "outputs": [
    {
     "name": "stdout",
     "output_type": "stream",
     "text": [
      "{0: '**abbb*'}\n"
     ]
    }
   ],
   "source": [
    "print(automat.search('**abbb*'))"
   ]
  },
  {
   "cell_type": "code",
   "execution_count": 3,
   "metadata": {},
   "outputs": [
    {
     "name": "stdout",
     "output_type": "stream",
     "text": [
      "{0: '**abbb*', 9: '**abab*'}\n"
     ]
    }
   ],
   "source": [
    "print(automat.search('**abbb*ab**abab*'))"
   ]
  },
  {
   "cell_type": "code",
   "execution_count": null,
   "metadata": {},
   "outputs": [],
   "source": []
  }
 ],
 "metadata": {
  "kernelspec": {
   "display_name": "Python 3",
   "language": "python",
   "name": "python3"
  },
  "language_info": {
   "codemirror_mode": {
    "name": "ipython",
    "version": 3
   },
   "file_extension": ".py",
   "mimetype": "text/x-python",
   "name": "python",
   "nbconvert_exporter": "python",
   "pygments_lexer": "ipython3",
   "version": "3.7.6"
  }
 },
 "nbformat": 4,
 "nbformat_minor": 4
}

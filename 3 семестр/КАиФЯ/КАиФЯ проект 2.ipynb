{
 "cells": [
  {
   "cell_type": "code",
   "execution_count": 82,
   "metadata": {
    "scrolled": true
   },
   "outputs": [],
   "source": [
    "def recognize(string):  # функция, распознающая цепочки КС языка\n",
    "    x=0  # счётчик для x\n",
    "    skipped = False  # флаг того, скакой стороны цепочки текущие символы 'x'\n",
    "    a=0  # счётчик для a\n",
    "    b=0  # счётчик для b\n",
    "    alphabet = ('x', 'a', 'b')  # алфавит\n",
    "    for i in range(0, len(string)):\n",
    "        if string[i] not in alphabet:\n",
    "            return f\"Ошибка: в позиции {i} неожидаемый символ {string[i]}!\"\n",
    "        if string[i] == 'x':\n",
    "            if (string[i-1]=='a' or (b!=3*a/2)) and i!=0:\n",
    "                print(i)\n",
    "                print(a)\n",
    "                print(b)\n",
    "                print('in x')\n",
    "                return f\"Ошибка: в позиции {i} неожидаемый символ {string[i]}!\"\n",
    "            if not skipped:\n",
    "                x = x + 1\n",
    "            else:\n",
    "                x = x - 1\n",
    "        if string[i]=='a':\n",
    "            if (string[i-1]=='b' and i!=0) or (string[i-1]=='x' and skipped):\n",
    "                print('in a')\n",
    "                return f\"Ошибка: в позиции {i} неожидаемый символ {string[i]}!\"\n",
    "            a = a + 1\n",
    "            skipped = True\n",
    "        if string[i]=='b':\n",
    "            if string[i-1]=='x' or a%2==1 or i==0:\n",
    "                print('in b')\n",
    "                return f\"Ошибка: в позиции {i} неожидаемый символ {string[i]}!\"\n",
    "            b = b + 1\n",
    "        if i==len(string)-1:\n",
    "            if b>3*a/2:\n",
    "                return f\"Ошибка: в позиции {i} неожидаемый символ {string[int((a/2)*5)]}!\"\n",
    "            if b<3*a/2:\n",
    "                 return f\"Ошибка: в позиции {len(string)} неожидаемый символ конца цепочки!\"\n",
    "    if x > 0 and skipped:\n",
    "        return f\"Ошибка: в позиции {len(string)} ожидается символ x!\"\n",
    "    if x < 0 and skipped:\n",
    "        j = string.find('a')\n",
    "        return f\"Ошибка: в позиции {j} неожидаемый символ {string[j]}!\"\n",
    "    return \"Цепочка подходит\""
   ]
  },
  {
   "cell_type": "code",
   "execution_count": 142,
   "metadata": {},
   "outputs": [],
   "source": [
    "class Automat():\n",
    "    # таблца состояний (мертвое состояние всегда последнее)\n",
    "    states = [\n",
    "        ('a', 'b', 'x'),\n",
    "        {'x':(2, ('',), 'm'), 'a': (3, ('',), ''), 'b': (9, ('',), '')},\n",
    "        {'x':(2, ('m',), 'm'), 'a': (3, ('m',), ''), 'b': (9, ('m',), '')},\n",
    "        {'x':(9, ('m',''), ''), 'a': (4, ('m','n',''), 'n'), 'b': (9, ('m','n',''), '')},\n",
    "        {'x':(9, ('m','n',''), ''), 'a': (3, ('n',), ''), 'b': (5, ('n',), '')},\n",
    "        {'x':(9, ('n',), ''), 'a': (9, ('n',), ''), 'b': (6, ('n',), '')},\n",
    "        {'x':(9, ('n',), ''), 'a': (9, ('n',), ''), 'b': (7, ('n',), 'd')},\n",
    "        {'x':(8, ('m',), 'd'), 'a': (9, ('m','n'), ''), 'b': (5, ('n',), '')},\n",
    "        {'x':(9, ('m',), 'd'), 'a': (9, ('m',), ''), 'b': (9, ('m',), '')},\n",
    "        {'x':(9, ('n','m',''), 'd'), 'a': (9, ('n','m',''), 'd'), 'b': (9, ('n','m',''), 'd')},  \n",
    "    ]\n",
    "    stack = ''  # начальный символ\n",
    "    \n",
    "    def __init__(self, final_states, current_state=1, states=None):  # конструктор\n",
    "        self.final_states = final_states  # список финальных состояниц\n",
    "        self.current_state = current_state  # текущее состояние\n",
    "        if states is not None:\n",
    "            self.set_states(states)\n",
    "        \n",
    "    def set_states(self, states):  # сеттер таблицы состояний\n",
    "        self.states = states\n",
    "        \n",
    "    def add(self, string):  # добавить в конец стека символ\n",
    "        self.stack = self.stack + string\n",
    "    def pop(self):  # извлечь из стека последний символ\n",
    "        self.stack = self.stack[0:-1]\n",
    "    def check(self):  # посмотреть последниций символ в стеке\n",
    "        if self.stack == '':\n",
    "            return ''\n",
    "        return self.stack[-1]\n",
    "    \n",
    "    def read(self, char):  # переход из одного состояний в другое основываясь на считанном символе и верхнем эементе стека\n",
    "        if char not in self.states[0]:  # если символ не в алфавите переходим в мёртвое состояние\n",
    "            self.current_state = self.states[-1][self.states[0][0]][0]\n",
    "        state = self.states[self.current_state][char]\n",
    "        if self.check() in state[1]:  # смотрим, что вверху стека\n",
    "            if state[2]=='d':  # символ d означает удаление верхнего символа стека\n",
    "                self.pop()\n",
    "            else:  # иначе вносим символы в стек, основываясь на данных их таблицы состояний\n",
    "                self.add(state[2])\n",
    "            self.current_state = state[0]  # обновляем текущее состояние\n",
    "        else:  # если нет совпадения верхнего символа стека с предполагаемыми на этом шаге \n",
    "            self.current_state = self.states[-1][self.states[0][0]][0]  # обновляем текущее состояние на мёртвое\n",
    "        return self.current_state  # возвращаем состояние, в которое перешли\n",
    "    \n",
    "    def recognize(self, string):  # распознавание цепочки, допустимой автоматом\n",
    "        for i in range(0,len(string)):  # проходим циклом по символам церпочки\n",
    "            self.read(string[i])  # применыяем функцию перехода к каждому символу строки\n",
    "            if self.current_state == len(self.states)-1:  # если перешли в мёртвое состояние\n",
    "                print(f\"Ошибка: в позиции {i} неожидаемый символ {string[i]}!\")  # сообщение об ошибке\n",
    "                self.stack = ''\n",
    "                self.current_state = 1\n",
    "                return False\n",
    "        # если текущее состояние после работы автомата - одно из допустимых и стек пуст, то цепочка допустима\n",
    "        if self.current_state in self.final_states and self.stack=='':\n",
    "            self.stack = ''\n",
    "            self.current_state = 1\n",
    "            return True\n",
    "        self.current_state = 1\n",
    "        self.stack = ''\n",
    "        print(f\"Ошибка: в позиции {len(string)} не хватает символа!\")\n",
    "        return False"
   ]
  },
  {
   "cell_type": "code",
   "execution_count": 143,
   "metadata": {},
   "outputs": [],
   "source": [
    "automat=Automat(final_states=(1,7,8))"
   ]
  },
  {
   "cell_type": "code",
   "execution_count": 144,
   "metadata": {
    "scrolled": false
   },
   "outputs": [
    {
     "data": {
      "text/plain": [
       "True"
      ]
     },
     "execution_count": 144,
     "metadata": {},
     "output_type": "execute_result"
    }
   ],
   "source": [
    "automat.recognize('')"
   ]
  },
  {
   "cell_type": "code",
   "execution_count": 145,
   "metadata": {
    "scrolled": true
   },
   "outputs": [
    {
     "data": {
      "text/plain": [
       "True"
      ]
     },
     "execution_count": 145,
     "metadata": {},
     "output_type": "execute_result"
    }
   ],
   "source": [
    "automat.recognize('xaabbbx')"
   ]
  },
  {
   "cell_type": "code",
   "execution_count": 146,
   "metadata": {},
   "outputs": [
    {
     "name": "stdout",
     "output_type": "stream",
     "text": [
      "Ошибка: в позиции 6 не хватает символа!\n"
     ]
    },
    {
     "data": {
      "text/plain": [
       "False"
      ]
     },
     "execution_count": 146,
     "metadata": {},
     "output_type": "execute_result"
    }
   ],
   "source": [
    "automat.recognize('xaabbb')"
   ]
  },
  {
   "cell_type": "code",
   "execution_count": 147,
   "metadata": {},
   "outputs": [
    {
     "name": "stdout",
     "output_type": "stream",
     "text": [
      "Ошибка: в позиции 5 неожидаемый символ x!\n"
     ]
    },
    {
     "data": {
      "text/plain": [
       "False"
      ]
     },
     "execution_count": 147,
     "metadata": {},
     "output_type": "execute_result"
    }
   ],
   "source": [
    "automat.recognize('aabbbx')"
   ]
  },
  {
   "cell_type": "code",
   "execution_count": 148,
   "metadata": {},
   "outputs": [
    {
     "name": "stdout",
     "output_type": "stream",
     "text": [
      "Ошибка: в позиции 8 не хватает символа!\n"
     ]
    },
    {
     "data": {
      "text/plain": [
       "False"
      ]
     },
     "execution_count": 148,
     "metadata": {},
     "output_type": "execute_result"
    }
   ],
   "source": [
    "automat.recognize('xxaabbbx')"
   ]
  },
  {
   "cell_type": "code",
   "execution_count": 149,
   "metadata": {},
   "outputs": [
    {
     "name": "stdout",
     "output_type": "stream",
     "text": [
      "Ошибка: в позиции 7 неожидаемый символ x!\n"
     ]
    },
    {
     "data": {
      "text/plain": [
       "False"
      ]
     },
     "execution_count": 149,
     "metadata": {},
     "output_type": "execute_result"
    }
   ],
   "source": [
    "automat.recognize('xaabbbxx')"
   ]
  },
  {
   "cell_type": "code",
   "execution_count": 150,
   "metadata": {},
   "outputs": [
    {
     "data": {
      "text/plain": [
       "True"
      ]
     },
     "execution_count": 150,
     "metadata": {},
     "output_type": "execute_result"
    }
   ],
   "source": [
    "automat.recognize('aabbb')"
   ]
  },
  {
   "cell_type": "code",
   "execution_count": 151,
   "metadata": {},
   "outputs": [
    {
     "name": "stdout",
     "output_type": "stream",
     "text": [
      "Ошибка: в позиции 3 неожидаемый символ b!\n"
     ]
    },
    {
     "data": {
      "text/plain": [
       "False"
      ]
     },
     "execution_count": 151,
     "metadata": {},
     "output_type": "execute_result"
    }
   ],
   "source": [
    "automat.recognize('aaabbb')"
   ]
  },
  {
   "cell_type": "code",
   "execution_count": 152,
   "metadata": {},
   "outputs": [
    {
     "name": "stdout",
     "output_type": "stream",
     "text": [
      "Ошибка: в позиции 5 неожидаемый символ b!\n"
     ]
    },
    {
     "data": {
      "text/plain": [
       "False"
      ]
     },
     "execution_count": 152,
     "metadata": {},
     "output_type": "execute_result"
    }
   ],
   "source": [
    "automat.recognize('aabbbb')"
   ]
  },
  {
   "cell_type": "code",
   "execution_count": 153,
   "metadata": {},
   "outputs": [
    {
     "name": "stdout",
     "output_type": "stream",
     "text": [
      "Ошибка: в позиции 8 неожидаемый символ a!\n"
     ]
    },
    {
     "data": {
      "text/plain": [
       "False"
      ]
     },
     "execution_count": 153,
     "metadata": {},
     "output_type": "execute_result"
    }
   ],
   "source": [
    "automat.recognize('xxxaabbbaaaxxx')"
   ]
  }
 ],
 "metadata": {
  "kernelspec": {
   "display_name": "Python 3",
   "language": "python",
   "name": "python3"
  },
  "language_info": {
   "codemirror_mode": {
    "name": "ipython",
    "version": 3
   },
   "file_extension": ".py",
   "mimetype": "text/x-python",
   "name": "python",
   "nbconvert_exporter": "python",
   "pygments_lexer": "ipython3",
   "version": "3.7.6"
  }
 },
 "nbformat": 4,
 "nbformat_minor": 4
}
